{
  "nbformat": 4,
  "nbformat_minor": 0,
  "metadata": {
    "colab": {
      "name": "MongolianSpeech2Text.ipynb",
      "version": "0.3.2",
      "provenance": [],
      "collapsed_sections": [],
      "include_colab_link": true
    },
    "kernelspec": {
      "name": "python3",
      "display_name": "Python 3"
    },
    "accelerator": "GPU"
  },
  "cells": [
    {
      "cell_type": "markdown",
      "metadata": {
        "id": "view-in-github",
        "colab_type": "text"
      },
      "source": [
        "<a href=\"https://colab.research.google.com/github/shuvuu/mongolian-speech-recognition/blob/master/MongolianSpeech2Text.ipynb\" target=\"_parent\"><img src=\"https://colab.research.google.com/assets/colab-badge.svg\" alt=\"Open In Colab\"/></a>"
      ]
    },
    {
      "metadata": {
        "id": "REk8vxKiX4-T",
        "colab_type": "text"
      },
      "cell_type": "markdown",
      "source": [
        "Mongolian speech recognition demo using [tugstugi/mongolian-speech-recognition](https://github.com/tugstugi/mongolian-speech-recognition).\n",
        "\n",
        "## Install\n",
        "\n",
        "Clone the project and install the dependencies:"
      ]
    },
    {
      "metadata": {
        "id": "3XDZyYFZXr6p",
        "colab_type": "code",
        "outputId": "90d405db-6b3f-4b87-e677-4c2310e4dd60",
        "colab": {
          "base_uri": "https://localhost:8080/",
          "height": 523
        }
      },
      "cell_type": "code",
      "source": [
        "import os\n",
        "import time\n",
        "from os.path import exists, join, basename, splitext\n",
        "\n",
        "git_repo_url = 'https://github.com/tugstugi/mongolian-speech-recognition.git'\n",
        "project_name = splitext(basename(git_repo_url))[0]\n",
        "if not exists(project_name):\n",
        "  !git clone -q {git_repo_url}\n",
        "  !cd {project_name} && git checkout 8369c96\n",
        "  !cd {project_name} && pip install -q -r requirements.txt\n",
        "  !pip install youtube-dl wget\n",
        "  \n",
        "from IPython.display import YouTubeVideo"
      ],
      "execution_count": 0,
      "outputs": [
        {
          "output_type": "stream",
          "text": [
            "Note: checking out '8369c96'.\n",
            "\n",
            "You are in 'detached HEAD' state. You can look around, make experimental\n",
            "changes and commit them, and you can discard any commits you make in this\n",
            "state without impacting any branches by performing another checkout.\n",
            "\n",
            "If you want to create a new branch to retain commits you create, you may\n",
            "do so (now or later) by using -b with the checkout command again. Example:\n",
            "\n",
            "  git checkout -b <new-branch-name>\n",
            "\n",
            "HEAD is now at 8369c96 support for ctc decode in eval.py\n",
            "\u001b[K    100% |████████████████████████████████| 133kB 20.7MB/s \n",
            "\u001b[K    100% |████████████████████████████████| 51kB 23.7MB/s \n",
            "\u001b[?25h  Building wheel for python-speech-features (setup.py) ... \u001b[?25ldone\n",
            "\u001b[?25h  Building wheel for python-levenshtein (setup.py) ... \u001b[?25ldone\n",
            "\u001b[?25hCollecting youtube-dl\n",
            "\u001b[?25l  Downloading https://files.pythonhosted.org/packages/41/4f/b9d6a4dff6cf176d593d494deade44db19654adc3188b7e2842f21a1f31b/youtube_dl-2019.4.24-py2.py3-none-any.whl (1.8MB)\n",
            "\u001b[K    100% |████████████████████████████████| 1.8MB 1.7MB/s \n",
            "\u001b[?25hCollecting wget\n",
            "  Downloading https://files.pythonhosted.org/packages/47/6a/62e288da7bcda82b935ff0c6cfe542970f04e29c756b0e147251b2fb251f/wget-3.2.zip\n",
            "Building wheels for collected packages: wget\n",
            "  Building wheel for wget (setup.py) ... \u001b[?25ldone\n",
            "\u001b[?25h  Stored in directory: /root/.cache/pip/wheels/40/15/30/7d8f7cea2902b4db79e3fea550d7d7b85ecb27ef992b618f3f\n",
            "Successfully built wget\n",
            "Installing collected packages: youtube-dl, wget\n",
            "Successfully installed wget-3.2 youtube-dl-2019.4.24\n"
          ],
          "name": "stdout"
        }
      ]
    },
    {
      "metadata": {
        "id": "7U5VjGarg0kc",
        "colab_type": "text"
      },
      "cell_type": "markdown",
      "source": [
        "For the language model support, we need also the `ctcdecode` lib:"
      ]
    },
    {
      "metadata": {
        "id": "Gw59cU6Mg7c0",
        "colab_type": "code",
        "outputId": "cd8ade04-4d92-4163-c673-ba735e51a16e",
        "colab": {
          "base_uri": "https://localhost:8080/",
          "height": 163
        }
      },
      "cell_type": "code",
      "source": [
        "if not exists('ctcdecode'):\n",
        "  !git clone -q --recursive https://github.com/parlance/ctcdecode.git\n",
        "  !cd ctcdecode && pip install ."
      ],
      "execution_count": 0,
      "outputs": [
        {
          "output_type": "stream",
          "text": [
            "Processing /content/ctcdecode\n",
            "Building wheels for collected packages: ctcdecode\n",
            "  Building wheel for ctcdecode (setup.py) ... \u001b[?25ldone\n",
            "\u001b[?25h  Stored in directory: /tmp/pip-ephem-wheel-cache-ufebmnt5/wheels/c3/6c/94/7d57d4f20a87a22ef1722eaad22052b4c435892b55400e5f4e\n",
            "Successfully built ctcdecode\n",
            "Installing collected packages: ctcdecode\n",
            "Successfully installed ctcdecode-0.4\n"
          ],
          "name": "stdout"
        }
      ]
    },
    {
      "metadata": {
        "id": "qW79XHCpYRmT",
        "colab_type": "text"
      },
      "cell_type": "markdown",
      "source": [
        "## Download Model\n",
        "\n",
        "Downlad the pre-trained model:"
      ]
    },
    {
      "metadata": {
        "id": "N6sqJgrsYQMp",
        "colab_type": "code",
        "colab": {}
      },
      "cell_type": "code",
      "source": [
        "logdir = join(project_name, 'logdir', 'mbspeech')\n",
        "checkpoint = 'checkpoint.pth'\n",
        "if not exists(logdir):\n",
        "  !mkdir -p {logdir}\n",
        "  !wget -q -O {logdir}/{checkpoint} https://www.dropbox.com/s/5ptvxo5fm9uh7bh/epoch-0055-8369c96.pth"
      ],
      "execution_count": 0,
      "outputs": []
    },
    {
      "metadata": {
        "id": "H6-zRtqHiejP",
        "colab_type": "text"
      },
      "cell_type": "markdown",
      "source": [
        "Download the 5-gram binary language model:"
      ]
    },
    {
      "metadata": {
        "id": "vInntYbdijag",
        "colab_type": "code",
        "outputId": "37b7fda3-ba1b-4204-87ae-49be22c79dee",
        "colab": {
          "base_uri": "https://localhost:8080/",
          "height": 89
        }
      },
      "cell_type": "code",
      "source": [
        "def download_from_google_drive(file_id, file_name):\n",
        "  # download a file from the Google Drive link\n",
        "  !rm -f ./cookie\n",
        "  !curl -c ./cookie -s -L \"https://drive.google.com/uc?export=download&id={file_id}\" > /dev/null\n",
        "  confirm_text = !awk '/download/ {print $NF}' ./cookie\n",
        "  confirm_text = confirm_text[0]\n",
        "  !curl -Lb ./cookie \"https://drive.google.com/uc?export=download&confirm={confirm_text}&id={file_id}\" -o {file_name}\n",
        "\n",
        "lm_model = 'mn_5gram.binary'\n",
        "if not exists(lm_model):\n",
        "  download_from_google_drive('1XsNNdLDpJ75GBpw1FAUqZXyqwsb4919x', lm_model)"
      ],
      "execution_count": 0,
      "outputs": [
        {
          "output_type": "stream",
          "text": [
            "  % Total    % Received % Xferd  Average Speed   Time    Time     Time  Current\n",
            "                                 Dload  Upload   Total   Spent    Left  Speed\n",
            "100   388    0   388    0     0   1371      0 --:--:-- --:--:-- --:--:--  1371\n",
            "100 1816M    0 1816M    0     0  45.1M      0 --:--:--  0:00:40 --:--:-- 67.1M\n"
          ],
          "name": "stdout"
        }
      ]
    },
    {
      "metadata": {
        "id": "jsftxHiOZprK",
        "colab_type": "text"
      },
      "cell_type": "markdown",
      "source": [
        "## Test on YouTube Video\n",
        "\n",
        "Test on some random Mongolian youtube video:"
      ]
    },
    {
      "metadata": {
        "id": "E-EEy7IcZGdS",
        "colab_type": "code",
        "outputId": "eb13999c-a003-4d9c-fd26-e35d721dfb5b",
        "colab": {
          "base_uri": "https://localhost:8080/",
          "height": 322
        }
      },
      "cell_type": "code",
      "source": [
        "YOUTUBE_ID = 'nniXeQwBKzw'\n",
        "\n",
        "\n",
        "YouTubeVideo(YOUTUBE_ID)"
      ],
      "execution_count": 0,
      "outputs": [
        {
          "output_type": "execute_result",
          "data": {
            "text/html": [
              "\n",
              "        <iframe\n",
              "            width=\"400\"\n",
              "            height=\"300\"\n",
              "            src=\"https://www.youtube.com/embed/nniXeQwBKzw\"\n",
              "            frameborder=\"0\"\n",
              "            allowfullscreen\n",
              "        ></iframe>\n",
              "        "
            ],
            "text/plain": [
              "<IPython.lib.display.YouTubeVideo at 0x7fd55c964ef0>"
            ],
            "image/jpeg": "[encoded data removed]"
          },
          "metadata": {
            "tags": []
          },
          "execution_count": 5
        }
      ]
    },
    {
      "metadata": {
        "id": "KAFEQ-HKZu2o",
        "colab_type": "code",
        "outputId": "36a0f503-4894-4bef-bd5e-d9a85643cd89",
        "colab": {
          "base_uri": "https://localhost:8080/",
          "height": 307
        }
      },
      "cell_type": "code",
      "source": [
        "ALPHA = 0.3  # How much do you trust for LM? 0 means don't use LM, bigger values more trust in LM\n",
        "BETA = 1.85  # not so important, using DeepSpeech default one\n",
        "\n",
        "!rm -rf *.wav\n",
        "!youtube-dl --extract-audio --audio-format wav --output \"test.%(ext)s\" https://www.youtube.com/watch\\?v\\={YOUTUBE_ID}\n",
        "!python {project_name}/eval.py --checkpoint={logdir}/{checkpoint} --lm={lm_model} --alpha {ALPHA} --beta {BETA} test.wav"
      ],
      "execution_count": 0,
      "outputs": [
        {
          "output_type": "stream",
          "text": [
            "[youtube] nniXeQwBKzw: Downloading webpage\n",
            "[youtube] nniXeQwBKzw: Downloading video info webpage\n",
            "[youtube] nniXeQwBKzw: Downloading MPD manifest\n",
            "[dashsegments] Total fragments: 41\n",
            "[download] Destination: test.m4a\n",
            "\u001b[K[download] 100% of 3.01MiB in 00:08\n",
            "[ffmpeg] Correcting container in \"test.m4a\"\n",
            "[ffmpeg] Destination: test.wav\n",
            "Deleting original file test.m4a (pass -k to keep)\n",
            "use_gpu: True\n",
            "loaded checkpoint epoch=56 step=18760\n",
            "inference time: 0.044s\n",
            "decode time: 38.423s\n",
            "Predicted:\n",
            "ийм ярьчихлаа би чинь одоо хяналтын горимоор одоо бид чинь сөрөг хүч байна шүү дээ яамдын тоо их байна аа энийг багасахыг яриад байхад яамдын тоог нэмвэл таныг багаар нь дэмжинэ гээд яриад байгаа юм тэгэхээр та энэтээ санал нэг байгаа юм яамдын тоо бий бол одоо байгаа тооноос нь багасыг тани чи одоо ардын засгийн ерөнхий сайд гээд эрх коландаа ба ардын засгийн үе таван яам байсан юм одоо ард түмний схийн газарын үед нэг арванд байвал болоо н гишүүн хэвлэ гэдэг нь болж байна зурхантай жил болж магадгүй тийм учраас одооний яамдын бү бүтэц агентын бүтдээр л янз бүрийн өөрчлөлтийг хийхгүйгээр явах нь төрийн зарлах нь тушааны хадгалах ажил төрөл хэвийн явахад чухалаа гэж бодож байгаа санал ширээ зөв чина шооши өгөхгүй төрийн албан хаагчдынхаа могол алахгүй төрийн залгамж байна хадгалагд хийх ёстой ажлуудаа төрийн албан хаагч нар хийж цаашаа на тайван ажиллах ёстой нэг зүйлийн тодруулж хэлэх монгол төрийн хууль зөрчсөн ажлаа хийж чаддаггүй хариуцлага алдсан ийм төрийн албан хаагч ны бол толгой болохгүй ээ гэдгээ хэлье тэр нийгэм цахилан хариуцлага ыг журмыг чангатга нь тогтоох сойлгүй шаардлага болсон байна хаанаа ажлын хариуцлага суларсан байна эмх замбараагүй байдал бий болсон байна дарга цэргийн ялгаа алга болсон байна төрийн хуулийг дээдэлдэг ажилаа рэн тэлэх юм бол нэг нь амар энэ улаанбаатар хотын төв сэрэх байгууламжийг барих зайлшгүй шаардлага гарчихаад байгаа энэ тал дээр та ямар бодлого гарч ажиллах вэ гэсэн ийм энэ асуулт байгаа за энэ улаанбаатар хотын цэвэрлэх байгууламжийн асуудал энэ үнэхээр одоо сэтгэл зүй госон асуудал энэ асуудлыг шийдэнэ барилаа эрд бага хэмжээний татвар авсан нэртэй яг үнэндээ бол гадаадынхан монголд орж ирээд дураараа өргөж байгаа ялангуяа оюу толгой бол олбала лттай бол монголд хямар болдоггүй тусгай ант булс олж урсан хэдэн тэр бум долларын борлуулалт хийж байгаа бол монгол с илэр тайлахгүй байгаа шүү дээ өнөөдөр би зүг дан сонсож байсан гондын мэдэхгүй эрдэнэтээс жишээ нь монголын талаар гарахдаа ард ан богоон одоо баяжмал идүүлж гарсан мөртлөө хятадын гээ л дээр хорин болгон болд бүртгэж байсан энэ жишээ одоо жишээ нь одоо цаашдаа явах уу ах нь хүндээ эзэн байх ёстой гэж би болгож байна монгол улсын эдийн засаг олон болтекийн засаг байх ёстой гэж би үздэг хэнэггй уул уурхайн салбарт шүтэж ирсний маань харгаа сүүлийн хэдэн жил гарсан дэлхийн зах зээл дээрээ уул уурхайн салбарын гаргаж байгаа түүхий эдийн өсөхөөр бидний амьдар сайддаг унахаар үүрдэг тийм учраас үүнийгээ нөхдөг эдийн засагтай байх ёстой тэр нь бол олон талууд эдийн засаг түүний нэг нь бол н хөдөө аж ахуй газар тариалан мал аж ахуй үндэсний үйлдвэрлэ гэж бодож байгаа үүнийгээ дэм жишээлэх ёстой эрдэс соёлг уул уурхайн салбарыг бид нар дэмжиж олох ёстой уул уурхайн салбарынхаа за олсон хөрөнгө мөнгийг бид нар газрын торох баялагаа газрын дээрх баялаг болгож байна орих ёстой сургууль цэцэрлэг барих ёстой сал\n"
          ],
          "name": "stdout"
        }
      ]
    }
  ]
}